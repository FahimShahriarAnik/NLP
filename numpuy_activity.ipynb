{
  "nbformat": 4,
  "nbformat_minor": 0,
  "metadata": {
    "colab": {
      "provenance": [],
      "authorship_tag": "ABX9TyPnAsvC04w1mrd5NzSP/EaS",
      "include_colab_link": true
    },
    "kernelspec": {
      "name": "python3",
      "display_name": "Python 3"
    },
    "language_info": {
      "name": "python"
    }
  },
  "cells": [
    {
      "cell_type": "markdown",
      "metadata": {
        "id": "view-in-github",
        "colab_type": "text"
      },
      "source": [
        "<a href=\"https://colab.research.google.com/github/FahimShahriarAnik/NLP/blob/main/numpuy_activity.ipynb\" target=\"_parent\"><img src=\"https://colab.research.google.com/assets/colab-badge.svg\" alt=\"Open In Colab\"/></a>"
      ]
    },
    {
      "cell_type": "code",
      "execution_count": null,
      "metadata": {
        "id": "2z4uf3Cs0xJd"
      },
      "outputs": [],
      "source": [
        "import numpy as np"
      ]
    },
    {
      "cell_type": "code",
      "source": [
        "# create a numpy array of size 7*5 initializing with random values between -5 to 5\n",
        "\n",
        "#count the number of items less than -1\n",
        "\n",
        "# next, add 5 to each of the item with value less than 0\n",
        "\n",
        "# now, reshape the array to 5*7 and use broadcasting to add another array [1,2,3,4,5]\n",
        "\n",
        "# finally, print the first value for axis 0"
      ],
      "metadata": {
        "colab": {
          "base_uri": "https://localhost:8080/"
        },
        "id": "0bcI9DYb1ZNx",
        "outputId": "15b67039-2b75-4b24-ef00-947a81042715"
      },
      "execution_count": null,
      "outputs": [
        {
          "output_type": "stream",
          "name": "stdout",
          "text": [
            "(4,)\n"
          ]
        }
      ]
    },
    {
      "cell_type": "code",
      "source": [
        "import numpy as np\n",
        "\n",
        "# Step 1: Create a numpy array of size 7x5 with random values between -5 and 5\n",
        "array = np.random.uniform(-5, 5, (7, 5))\n",
        "\n",
        "print(f\"array: {array}\\n\")\n",
        "\n",
        "# Step 2: Count the number of items less than -1\n",
        "count_less_than_negative_one = np.sum(array < -1)\n",
        "print(f\"count_less_than_negative_one: {count_less_than_negative_one}\\n\")\n",
        "\n",
        "# Step 3: Add 5 to each of the items with value less than 0\n",
        "array[array < 0] += 5\n",
        "print(f\"new array: {array}\\n\")\n",
        "# Step 4: Reshape the array to 5x7\n",
        "reshaped_array = np.reshape(array, (5, 7))\n",
        "print(f\"reshaped_array: {reshaped_array}\\n\")\n",
        "\n",
        "# Step 5: Add the array [1,2,3,4,5] to the reshaped array using broadcasting\n",
        "broadcast_array = np.array([1, 2, 3, 4, 5]).reshape(5, 1)\n",
        "print(f\"broadcast_array: {broadcast_array}\\n\")\n",
        "final_array = reshaped_array + broadcast_array\n",
        "print(f\"final_array: {final_array}\\n\")\n",
        "# Step 6: Print the first value for axis 0\n",
        "first_value_axis_0 = final_array[0, 0]\n",
        "print(f\"first_value_axis_0: {first_value_axis_0}\\n\")\n"
      ],
      "metadata": {
        "colab": {
          "base_uri": "https://localhost:8080/"
        },
        "id": "VYhFkVYfAJ4G",
        "outputId": "86ff38cc-df18-4944-f872-50aae26609f4"
      },
      "execution_count": null,
      "outputs": [
        {
          "output_type": "stream",
          "name": "stdout",
          "text": [
            "array: [[ 4.40657782 -0.3851513   2.26057693 -0.35955007  2.81818017]\n",
            " [ 0.82596709  1.23187637  4.28356108 -0.60467145 -3.3528394 ]\n",
            " [-4.2457405   1.11749654 -2.12781046  2.91102939  0.58632526]\n",
            " [ 3.80754364 -0.8318474  -0.27613485  2.94332156  3.23178546]\n",
            " [ 1.96380398 -4.17949483 -0.48266438  3.73933666  0.23380721]\n",
            " [-1.34289558  2.16414299 -2.65098907  1.87002666 -0.80190939]\n",
            " [ 4.93668205  4.08391875  2.49215683  4.99830144 -1.764183  ]]\n",
            "\n",
            "count_less_than_negative_one: 7\n",
            "\n",
            "new array: [[4.40657782 4.6148487  2.26057693 4.64044993 2.81818017]\n",
            " [0.82596709 1.23187637 4.28356108 4.39532855 1.6471606 ]\n",
            " [0.7542595  1.11749654 2.87218954 2.91102939 0.58632526]\n",
            " [3.80754364 4.1681526  4.72386515 2.94332156 3.23178546]\n",
            " [1.96380398 0.82050517 4.51733562 3.73933666 0.23380721]\n",
            " [3.65710442 2.16414299 2.34901093 1.87002666 4.19809061]\n",
            " [4.93668205 4.08391875 2.49215683 4.99830144 3.235817  ]]\n",
            "\n",
            "reshaped_array: [[4.40657782 4.6148487  2.26057693 4.64044993 2.81818017 0.82596709\n",
            "  1.23187637]\n",
            " [4.28356108 4.39532855 1.6471606  0.7542595  1.11749654 2.87218954\n",
            "  2.91102939]\n",
            " [0.58632526 3.80754364 4.1681526  4.72386515 2.94332156 3.23178546\n",
            "  1.96380398]\n",
            " [0.82050517 4.51733562 3.73933666 0.23380721 3.65710442 2.16414299\n",
            "  2.34901093]\n",
            " [1.87002666 4.19809061 4.93668205 4.08391875 2.49215683 4.99830144\n",
            "  3.235817  ]]\n",
            "\n",
            "broadcast_array: [[1]\n",
            " [2]\n",
            " [3]\n",
            " [4]\n",
            " [5]]\n",
            "\n",
            "final_array: [[5.40657782 5.6148487  3.26057693 5.64044993 3.81818017 1.82596709\n",
            "  2.23187637]\n",
            " [6.28356108 6.39532855 3.6471606  2.7542595  3.11749654 4.87218954\n",
            "  4.91102939]\n",
            " [3.58632526 6.80754364 7.1681526  7.72386515 5.94332156 6.23178546\n",
            "  4.96380398]\n",
            " [4.82050517 8.51733562 7.73933666 4.23380721 7.65710442 6.16414299\n",
            "  6.34901093]\n",
            " [6.87002666 9.19809061 9.93668205 9.08391875 7.49215683 9.99830144\n",
            "  8.235817  ]]\n",
            "\n",
            "first_value_axis_0: 5.4065778193202405\n",
            "\n"
          ]
        }
      ]
    }
  ]
}